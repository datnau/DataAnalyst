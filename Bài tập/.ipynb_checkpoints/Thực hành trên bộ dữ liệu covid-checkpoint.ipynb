{
 "cells": [
  {
   "cell_type": "code",
   "execution_count": 5,
   "id": "05fb9c46",
   "metadata": {},
   "outputs": [
    {
     "data": {
      "text/html": [
       "<div>\n",
       "<style scoped>\n",
       "    .dataframe tbody tr th:only-of-type {\n",
       "        vertical-align: middle;\n",
       "    }\n",
       "\n",
       "    .dataframe tbody tr th {\n",
       "        vertical-align: top;\n",
       "    }\n",
       "\n",
       "    .dataframe thead th {\n",
       "        text-align: right;\n",
       "    }\n",
       "</style>\n",
       "<table border=\"1\" class=\"dataframe\">\n",
       "  <thead>\n",
       "    <tr style=\"text-align: right;\">\n",
       "      <th></th>\n",
       "      <th>country</th>\n",
       "      <th>continent</th>\n",
       "      <th>date</th>\n",
       "      <th>day</th>\n",
       "      <th>month</th>\n",
       "      <th>year</th>\n",
       "      <th>cases</th>\n",
       "      <th>deaths</th>\n",
       "      <th>country_code</th>\n",
       "      <th>population</th>\n",
       "    </tr>\n",
       "  </thead>\n",
       "  <tbody>\n",
       "    <tr>\n",
       "      <th>0</th>\n",
       "      <td>Afghanistan</td>\n",
       "      <td>Asia</td>\n",
       "      <td>2020-04-12</td>\n",
       "      <td>12</td>\n",
       "      <td>4</td>\n",
       "      <td>2020</td>\n",
       "      <td>34</td>\n",
       "      <td>3</td>\n",
       "      <td>AFG</td>\n",
       "      <td>37172386.0</td>\n",
       "    </tr>\n",
       "    <tr>\n",
       "      <th>1</th>\n",
       "      <td>Albania</td>\n",
       "      <td>Europe</td>\n",
       "      <td>2020-04-12</td>\n",
       "      <td>12</td>\n",
       "      <td>4</td>\n",
       "      <td>2020</td>\n",
       "      <td>17</td>\n",
       "      <td>0</td>\n",
       "      <td>ALB</td>\n",
       "      <td>2866376.0</td>\n",
       "    </tr>\n",
       "    <tr>\n",
       "      <th>2</th>\n",
       "      <td>Algeria</td>\n",
       "      <td>Africa</td>\n",
       "      <td>2020-04-12</td>\n",
       "      <td>12</td>\n",
       "      <td>4</td>\n",
       "      <td>2020</td>\n",
       "      <td>64</td>\n",
       "      <td>19</td>\n",
       "      <td>DZA</td>\n",
       "      <td>42228429.0</td>\n",
       "    </tr>\n",
       "    <tr>\n",
       "      <th>3</th>\n",
       "      <td>Andorra</td>\n",
       "      <td>Europe</td>\n",
       "      <td>2020-04-12</td>\n",
       "      <td>12</td>\n",
       "      <td>4</td>\n",
       "      <td>2020</td>\n",
       "      <td>21</td>\n",
       "      <td>2</td>\n",
       "      <td>AND</td>\n",
       "      <td>77006.0</td>\n",
       "    </tr>\n",
       "    <tr>\n",
       "      <th>4</th>\n",
       "      <td>Angola</td>\n",
       "      <td>Africa</td>\n",
       "      <td>2020-04-12</td>\n",
       "      <td>12</td>\n",
       "      <td>4</td>\n",
       "      <td>2020</td>\n",
       "      <td>0</td>\n",
       "      <td>0</td>\n",
       "      <td>AGO</td>\n",
       "      <td>30809762.0</td>\n",
       "    </tr>\n",
       "  </tbody>\n",
       "</table>\n",
       "</div>"
      ],
      "text/plain": [
       "       country continent        date  day  month  year  cases  deaths  \\\n",
       "0  Afghanistan      Asia  2020-04-12   12      4  2020     34       3   \n",
       "1      Albania    Europe  2020-04-12   12      4  2020     17       0   \n",
       "2      Algeria    Africa  2020-04-12   12      4  2020     64      19   \n",
       "3      Andorra    Europe  2020-04-12   12      4  2020     21       2   \n",
       "4       Angola    Africa  2020-04-12   12      4  2020      0       0   \n",
       "\n",
       "  country_code  population  \n",
       "0          AFG  37172386.0  \n",
       "1          ALB   2866376.0  \n",
       "2          DZA  42228429.0  \n",
       "3          AND     77006.0  \n",
       "4          AGO  30809762.0  "
      ]
     },
     "execution_count": 5,
     "metadata": {},
     "output_type": "execute_result"
    }
   ],
   "source": [
    "import pandas as pd\n",
    "data = pd.read_csv('C:\\\\Users\\\\ADMIN\\\\Downloads\\\\subset-covid-data.csv', encoding='UTF-8')\n",
    "data.head()\n"
   ]
  },
  {
   "cell_type": "code",
   "execution_count": 6,
   "id": "3bf179ef",
   "metadata": {},
   "outputs": [
    {
     "name": "stdout",
     "output_type": "stream",
     "text": [
      "<class 'pandas.core.frame.DataFrame'>\n",
      "RangeIndex: 206 entries, 0 to 205\n",
      "Data columns (total 10 columns):\n",
      " #   Column        Non-Null Count  Dtype  \n",
      "---  ------        --------------  -----  \n",
      " 0   country       206 non-null    object \n",
      " 1   continent     206 non-null    object \n",
      " 2   date          206 non-null    object \n",
      " 3   day           206 non-null    int64  \n",
      " 4   month         206 non-null    int64  \n",
      " 5   year          206 non-null    int64  \n",
      " 6   cases         206 non-null    int64  \n",
      " 7   deaths        206 non-null    int64  \n",
      " 8   country_code  202 non-null    object \n",
      " 9   population    202 non-null    float64\n",
      "dtypes: float64(1), int64(5), object(4)\n",
      "memory usage: 16.2+ KB\n"
     ]
    }
   ],
   "source": [
    "data.info()"
   ]
  },
  {
   "cell_type": "code",
   "execution_count": 7,
   "id": "ab4ee633",
   "metadata": {},
   "outputs": [
    {
     "data": {
      "text/plain": [
       "2020-04-12    204\n",
       "2020-01-18      1\n",
       "2020-04-11      1\n",
       "Name: date, dtype: int64"
      ]
     },
     "execution_count": 7,
     "metadata": {},
     "output_type": "execute_result"
    }
   ],
   "source": [
    "data.date.value_counts()"
   ]
  },
  {
   "cell_type": "code",
   "execution_count": 10,
   "id": "0924fe58",
   "metadata": {},
   "outputs": [],
   "source": [
    "cleaned_data = data[data.date == '2020-04-12']"
   ]
  },
  {
   "cell_type": "code",
   "execution_count": 3,
   "id": "7ebb8e4e",
   "metadata": {},
   "outputs": [
    {
     "name": "stdout",
     "output_type": "stream",
     "text": [
      "Trung bình số ca mắc mới: 395.247572815534\n",
      "Trung vị của số ca mắc mới: 11.5\n"
     ]
    },
    {
     "data": {
      "image/png": "[encoded data removed]",
      "text/plain": [
       "<Figure size 640x480 with 1 Axes>"
      ]
     },
     "metadata": {},
     "output_type": "display_data"
    }
   ],
   "source": [
    "import pandas as pd\n",
    "import matplotlib.pyplot as plt\n",
    "cleaned_data = pd.read_csv('C:\\\\Users\\\\ADMIN\\\\Downloads\\\\subset-covid-data.csv', encoding='UTF-8')\n",
    "print(\"Trung bình số ca mắc mới: \" + str(cleaned_data['cases'].mean()))\n",
    "print(\"Trung vị của số ca mắc mới: \" + str(cleaned_data['cases'].median()))\n",
    "plt.hist(cleaned_data['cases'], bins=200)\n",
    "plt.title(\"Phân bố số ca mắc mới\")\n",
    "plt.xlabel(\"Số ca mắc mới\")\n",
    "plt.ylabel(\"Số lượng quốc gia\")\n",
    "plt.show()\n"
   ]
  },
  {
   "cell_type": "code",
   "execution_count": 2,
   "id": "236628e2",
   "metadata": {},
   "outputs": [
    {
     "name": "stdout",
     "output_type": "stream",
     "text": [
      "tổng số ca nhiễm và số ca ncủa các châu lục\n"
     ]
    },
    {
     "ename": "NameError",
     "evalue": "name 'cleaned_data' is not defined",
     "output_type": "error",
     "traceback": [
      "\u001b[1;31m---------------------------------------------------------------------------\u001b[0m",
      "\u001b[1;31mNameError\u001b[0m                                 Traceback (most recent call last)",
      "\u001b[1;32m~\\AppData\\Local\\Temp\\ipykernel_19892\\2193588929.py\u001b[0m in \u001b[0;36m<module>\u001b[1;34m\u001b[0m\n\u001b[0;32m      1\u001b[0m \u001b[0mprint\u001b[0m\u001b[1;33m(\u001b[0m\u001b[1;34m\"tổng số ca nhiễm và số ca ncủa các châu lục\"\u001b[0m\u001b[1;33m)\u001b[0m\u001b[1;33m\u001b[0m\u001b[1;33m\u001b[0m\u001b[0m\n\u001b[1;32m----> 2\u001b[1;33m \u001b[0mcleaned_data\u001b[0m\u001b[1;33m.\u001b[0m\u001b[0mgroupby\u001b[0m\u001b[1;33m(\u001b[0m\u001b[1;34m'continent'\u001b[0m\u001b[1;33m)\u001b[0m\u001b[1;33m[\u001b[0m\u001b[1;34m'cases'\u001b[0m\u001b[1;33m,\u001b[0m\u001b[1;34m'deaths'\u001b[0m\u001b[1;33m]\u001b[0m\u001b[1;33m.\u001b[0m\u001b[0msum\u001b[0m\u001b[1;33m(\u001b[0m\u001b[1;33m)\u001b[0m\u001b[1;33m\u001b[0m\u001b[1;33m\u001b[0m\u001b[0m\n\u001b[0m",
      "\u001b[1;31mNameError\u001b[0m: name 'cleaned_data' is not defined"
     ]
    }
   ],
   "source": [
    "print(\"tổng số ca nhiễm và số ca ncủa các châu lục\")\n",
    "cleaned_data.groupby('continent')['cases','deaths'].sum()"
   ]
  },
  {
   "cell_type": "code",
   "execution_count": 38,
   "id": "7c140cb8",
   "metadata": {},
   "outputs": [
    {
     "data": {
      "text/html": [
       "<div>\n",
       "<style scoped>\n",
       "    .dataframe tbody tr th:only-of-type {\n",
       "        vertical-align: middle;\n",
       "    }\n",
       "\n",
       "    .dataframe tbody tr th {\n",
       "        vertical-align: top;\n",
       "    }\n",
       "\n",
       "    .dataframe thead th {\n",
       "        text-align: right;\n",
       "    }\n",
       "</style>\n",
       "<table border=\"1\" class=\"dataframe\">\n",
       "  <thead>\n",
       "    <tr style=\"text-align: right;\">\n",
       "      <th></th>\n",
       "      <th>cases</th>\n",
       "      <th>deaths</th>\n",
       "    </tr>\n",
       "    <tr>\n",
       "      <th>continent</th>\n",
       "      <th></th>\n",
       "      <th></th>\n",
       "    </tr>\n",
       "  </thead>\n",
       "  <tbody>\n",
       "    <tr>\n",
       "      <th>Africa</th>\n",
       "      <td>714</td>\n",
       "      <td>52</td>\n",
       "    </tr>\n",
       "    <tr>\n",
       "      <th>America</th>\n",
       "      <td>33519</td>\n",
       "      <td>2111</td>\n",
       "    </tr>\n",
       "    <tr>\n",
       "      <th>Asia</th>\n",
       "      <td>12979</td>\n",
       "      <td>383</td>\n",
       "    </tr>\n",
       "    <tr>\n",
       "      <th>Europe</th>\n",
       "      <td>34141</td>\n",
       "      <td>3571</td>\n",
       "    </tr>\n",
       "    <tr>\n",
       "      <th>Oceania</th>\n",
       "      <td>68</td>\n",
       "      <td>4</td>\n",
       "    </tr>\n",
       "    <tr>\n",
       "      <th>Other</th>\n",
       "      <td>0</td>\n",
       "      <td>0</td>\n",
       "    </tr>\n",
       "  </tbody>\n",
       "</table>\n",
       "</div>"
      ],
      "text/plain": [
       "           cases  deaths\n",
       "continent               \n",
       "Africa       714      52\n",
       "America    33519    2111\n",
       "Asia       12979     383\n",
       "Europe     34141    3571\n",
       "Oceania       68       4\n",
       "Other          0       0"
      ]
     },
     "execution_count": 38,
     "metadata": {},
     "output_type": "execute_result"
    }
   ],
   "source": [
    "print (\"5 quốc gia có số ca nhiễm mới cao nhất\")\n",
    "data = data.sort_values('cases',ascending = False)\n",
    "data.head(5)"
   ]
  },
  {
   "cell_type": "code",
   "execution_count": null,
   "id": "b2db7d1b",
   "metadata": {},
   "outputs": [],
   "source": []
  }
 ],
 "metadata": {
  "kernelspec": {
   "display_name": "Python 3 (ipykernel)",
   "language": "python",
   "name": "python3"
  },
  "language_info": {
   "codemirror_mode": {
    "name": "ipython",
    "version": 3
   },
   "file_extension": ".py",
   "mimetype": "text/x-python",
   "name": "python",
   "nbconvert_exporter": "python",
   "pygments_lexer": "ipython3",
   "version": "3.9.13"
  }
 },
 "nbformat": 4,
 "nbformat_minor": 5
}
