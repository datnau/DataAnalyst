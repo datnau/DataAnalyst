{
 "cells": [
  {
   "cell_type": "code",
   "execution_count": 2,
   "id": "5fa6a0a9",
   "metadata": {},
   "outputs": [
    {
     "data": {
      "text/html": [
       "<div>\n",
       "<style scoped>\n",
       "    .dataframe tbody tr th:only-of-type {\n",
       "        vertical-align: middle;\n",
       "    }\n",
       "\n",
       "    .dataframe tbody tr th {\n",
       "        vertical-align: top;\n",
       "    }\n",
       "\n",
       "    .dataframe thead th {\n",
       "        text-align: right;\n",
       "    }\n",
       "</style>\n",
       "<table border=\"1\" class=\"dataframe\">\n",
       "  <thead>\n",
       "    <tr style=\"text-align: right;\">\n",
       "      <th></th>\n",
       "      <th>Country</th>\n",
       "      <th>Continent</th>\n",
       "      <th>GDP (millions of US$)</th>\n",
       "    </tr>\n",
       "  </thead>\n",
       "  <tbody>\n",
       "    <tr>\n",
       "      <th>0</th>\n",
       "      <td>Afghanistan</td>\n",
       "      <td>Asia</td>\n",
       "      <td>18181</td>\n",
       "    </tr>\n",
       "    <tr>\n",
       "      <th>1</th>\n",
       "      <td>Albania</td>\n",
       "      <td>Europe</td>\n",
       "      <td>12847</td>\n",
       "    </tr>\n",
       "    <tr>\n",
       "      <th>2</th>\n",
       "      <td>Algeria</td>\n",
       "      <td>Africa</td>\n",
       "      <td>190709</td>\n",
       "    </tr>\n",
       "    <tr>\n",
       "      <th>3</th>\n",
       "      <td>Angola</td>\n",
       "      <td>Africa</td>\n",
       "      <td>100948</td>\n",
       "    </tr>\n",
       "    <tr>\n",
       "      <th>4</th>\n",
       "      <td>Argentina</td>\n",
       "      <td>South America</td>\n",
       "      <td>447644</td>\n",
       "    </tr>\n",
       "  </tbody>\n",
       "</table>\n",
       "</div>"
      ],
      "text/plain": [
       "        Country      Continent  GDP (millions of US$)\n",
       "0   Afghanistan           Asia                  18181\n",
       "1       Albania         Europe                  12847\n",
       "2       Algeria         Africa                 190709\n",
       "3        Angola         Africa                 100948\n",
       "4     Argentina  South America                 447644"
      ]
     },
     "execution_count": 2,
     "metadata": {},
     "output_type": "execute_result"
    }
   ],
   "source": [
    "import pandas as pd\n",
    "df = pd.read_csv('C:\\\\Users\\\\ADMIN\\\\Downloads\\\\GDPlist.csv', encoding = \"ISO-8859-1\" )\n",
    "df.head()"
   ]
  },
  {
   "cell_type": "code",
   "execution_count": 29,
   "id": "ed91e259",
   "metadata": {},
   "outputs": [
    {
     "name": "stdout",
     "output_type": "stream",
     "text": [
      "Số dòng của bộ dữ liệu là:  23\n",
      "Số cột của bộ dữ liệu là:  4\n"
     ]
    }
   ],
   "source": [
    "print(\"Số dòng của bộ dữ liệu là: \",df.shape[0])\n",
    "print(\"Số cột của bộ dữ liệu là: \",df.shape[1])\n",
    "print(\"Kiểu dữ liệu của các thuộc tính:\")\n",
    "print(df.dtypes)\n"
   ]
  },
  {
   "cell_type": "code",
   "execution_count": 4,
   "id": "d61d1ff6",
   "metadata": {},
   "outputs": [
    {
     "data": {
      "text/html": [
       "<div>\n",
       "<style scoped>\n",
       "    .dataframe tbody tr th:only-of-type {\n",
       "        vertical-align: middle;\n",
       "    }\n",
       "\n",
       "    .dataframe tbody tr th {\n",
       "        vertical-align: top;\n",
       "    }\n",
       "\n",
       "    .dataframe thead th {\n",
       "        text-align: right;\n",
       "    }\n",
       "</style>\n",
       "<table border=\"1\" class=\"dataframe\">\n",
       "  <thead>\n",
       "    <tr style=\"text-align: right;\">\n",
       "      <th></th>\n",
       "      <th>Nuoc</th>\n",
       "      <th>ChauLuc</th>\n",
       "      <th>GDP (trieu $)</th>\n",
       "    </tr>\n",
       "  </thead>\n",
       "  <tbody>\n",
       "    <tr>\n",
       "      <th>0</th>\n",
       "      <td>Afghanistan</td>\n",
       "      <td>Asia</td>\n",
       "      <td>18181</td>\n",
       "    </tr>\n",
       "    <tr>\n",
       "      <th>1</th>\n",
       "      <td>Albania</td>\n",
       "      <td>Europe</td>\n",
       "      <td>12847</td>\n",
       "    </tr>\n",
       "    <tr>\n",
       "      <th>2</th>\n",
       "      <td>Algeria</td>\n",
       "      <td>Africa</td>\n",
       "      <td>190709</td>\n",
       "    </tr>\n",
       "    <tr>\n",
       "      <th>3</th>\n",
       "      <td>Angola</td>\n",
       "      <td>Africa</td>\n",
       "      <td>100948</td>\n",
       "    </tr>\n",
       "    <tr>\n",
       "      <th>4</th>\n",
       "      <td>Argentina</td>\n",
       "      <td>South America</td>\n",
       "      <td>447644</td>\n",
       "    </tr>\n",
       "  </tbody>\n",
       "</table>\n",
       "</div>"
      ],
      "text/plain": [
       "           Nuoc        ChauLuc  GDP (trieu $)\n",
       "0   Afghanistan           Asia          18181\n",
       "1       Albania         Europe          12847\n",
       "2       Algeria         Africa         190709\n",
       "3        Angola         Africa         100948\n",
       "4     Argentina  South America         447644"
      ]
     },
     "execution_count": 4,
     "metadata": {},
     "output_type": "execute_result"
    }
   ],
   "source": [
    "df = df.rename(columns={'Country':'Nuoc','Continent':'ChauLuc','GDP (millions of US$)':'GDP (trieu $)'})\n",
    "df.head()"
   ]
  },
  {
   "cell_type": "code",
   "execution_count": 5,
   "id": "6b3dd0a8",
   "metadata": {},
   "outputs": [
    {
     "data": {
      "text/html": [
       "<div>\n",
       "<style scoped>\n",
       "    .dataframe tbody tr th:only-of-type {\n",
       "        vertical-align: middle;\n",
       "    }\n",
       "\n",
       "    .dataframe tbody tr th {\n",
       "        vertical-align: top;\n",
       "    }\n",
       "\n",
       "    .dataframe thead th {\n",
       "        text-align: right;\n",
       "    }\n",
       "</style>\n",
       "<table border=\"1\" class=\"dataframe\">\n",
       "  <thead>\n",
       "    <tr style=\"text-align: right;\">\n",
       "      <th></th>\n",
       "      <th>Nuoc</th>\n",
       "      <th>Thanhpho</th>\n",
       "      <th>ChauLuc</th>\n",
       "      <th>GDP (trieu $)</th>\n",
       "    </tr>\n",
       "  </thead>\n",
       "  <tbody>\n",
       "    <tr>\n",
       "      <th>0</th>\n",
       "      <td>Afghanistan</td>\n",
       "      <td></td>\n",
       "      <td>Asia</td>\n",
       "      <td>18181</td>\n",
       "    </tr>\n",
       "    <tr>\n",
       "      <th>1</th>\n",
       "      <td>Albania</td>\n",
       "      <td></td>\n",
       "      <td>Europe</td>\n",
       "      <td>12847</td>\n",
       "    </tr>\n",
       "    <tr>\n",
       "      <th>2</th>\n",
       "      <td>Algeria</td>\n",
       "      <td></td>\n",
       "      <td>Africa</td>\n",
       "      <td>190709</td>\n",
       "    </tr>\n",
       "    <tr>\n",
       "      <th>3</th>\n",
       "      <td>Angola</td>\n",
       "      <td></td>\n",
       "      <td>Africa</td>\n",
       "      <td>100948</td>\n",
       "    </tr>\n",
       "    <tr>\n",
       "      <th>4</th>\n",
       "      <td>Argentina</td>\n",
       "      <td></td>\n",
       "      <td>South America</td>\n",
       "      <td>447644</td>\n",
       "    </tr>\n",
       "  </tbody>\n",
       "</table>\n",
       "</div>"
      ],
      "text/plain": [
       "           Nuoc Thanhpho        ChauLuc  GDP (trieu $)\n",
       "0   Afghanistan                    Asia          18181\n",
       "1       Albania                  Europe          12847\n",
       "2       Algeria                  Africa         190709\n",
       "3        Angola                  Africa         100948\n",
       "4     Argentina           South America         447644"
      ]
     },
     "execution_count": 5,
     "metadata": {},
     "output_type": "execute_result"
    }
   ],
   "source": [
    "df.insert(df.columns.get_loc('Nuoc') + 1, 'Thanhpho', pd.Series('', index=df.index))\n",
    "df.head()"
   ]
  },
  {
   "cell_type": "code",
   "execution_count": 19,
   "id": "e1878f32",
   "metadata": {},
   "outputs": [],
   "source": [
    "df['Thanhpho'] = df['Thanhpho'].replace({'Vietnam': 'Hanoi'})\n"
   ]
  },
  {
   "cell_type": "code",
   "execution_count": 31,
   "id": "913bf637",
   "metadata": {},
   "outputs": [],
   "source": [
    "df = df.drop(df.loc[df.ChauLuc == 'Asia'].index)"
   ]
  },
  {
   "cell_type": "code",
   "execution_count": 32,
   "id": "b0166269",
   "metadata": {},
   "outputs": [],
   "source": [
    "df = df.drop(df.loc[df['GDP (trieu $)'] < 300000].index)"
   ]
  },
  {
   "cell_type": "code",
   "execution_count": 33,
   "id": "556e0c97",
   "metadata": {},
   "outputs": [
    {
     "name": "stdout",
     "output_type": "stream",
     "text": [
      "                Nuoc         Thanhpho        ChauLuc  GDP (trieu $)\n",
      "4          Argentina        Argentina  South America         447644\n",
      "5          Australia        Australia        Oceania        1488221\n",
      "6            Austria          Austria         Europe         419243\n",
      "11           Belgium          Belgium         Europe         513396\n",
      "15            Brazil           Brazil  South America        2492908\n",
      "21            Canada           Canada  North America        1736869\n",
      "24          Colombia         Colombia  South America         328422\n",
      "32           Denmark          Denmark         Europe         333238\n",
      "41            France           France         Europe        2776324\n",
      "44           Germany          Germany         Europe        3577031\n",
      "46            Greece           Greece         Europe         303065\n",
      "58             Italy            Italy         Europe        2198730\n",
      "73            Mexico           Mexico  North America        1154784\n",
      "78       Netherlands      Netherlands         Europe         840433\n",
      "81            Norway           Norway         Europe         483650\n",
      "89            Poland           Poland         Europe         513821\n",
      "100     South Africa     South Africa         Africa         408074\n",
      "102            Spain            Spain         Europe        1493513\n",
      "105           Sweden           Sweden         Europe         538237\n",
      "106      Switzerland      Switzerland         Europe         636059\n",
      "117   United Kingdom   United Kingdom         Europe        2417570\n",
      "118    United States    United States  North America       15094025\n",
      "121        Venezuela        Venezuela  South America         315841\n"
     ]
    }
   ],
   "source": [
    "print(df)"
   ]
  },
  {
   "cell_type": "code",
   "execution_count": null,
   "id": "74b439a1",
   "metadata": {},
   "outputs": [],
   "source": []
  },
  {
   "cell_type": "code",
   "execution_count": null,
   "id": "6b1d2b4f",
   "metadata": {},
   "outputs": [],
   "source": []
  }
 ],
 "metadata": {
  "kernelspec": {
   "display_name": "Python 3 (ipykernel)",
   "language": "python",
   "name": "python3"
  },
  "language_info": {
   "codemirror_mode": {
    "name": "ipython",
    "version": 3
   },
   "file_extension": ".py",
   "mimetype": "text/x-python",
   "name": "python",
   "nbconvert_exporter": "python",
   "pygments_lexer": "ipython3",
   "version": "3.9.13"
  }
 },
 "nbformat": 4,
 "nbformat_minor": 5
}
