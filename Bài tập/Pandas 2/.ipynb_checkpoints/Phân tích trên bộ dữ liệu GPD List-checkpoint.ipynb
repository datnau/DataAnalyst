{
 "cells": [
  {
   "cell_type": "code",
   "execution_count": 15,
   "id": "9d48ad6c",
   "metadata": {},
   "outputs": [
    {
     "name": "stdout",
     "output_type": "stream",
     "text": [
      "<class 'pandas.core.frame.DataFrame'>\n",
      "RangeIndex: 125 entries, 0 to 124\n",
      "Data columns (total 3 columns):\n",
      " #   Column                 Non-Null Count  Dtype \n",
      "---  ------                 --------------  ----- \n",
      " 0   Country                125 non-null    object\n",
      " 1   Continent              125 non-null    object\n",
      " 2   GDP (millions of US$)  125 non-null    int64 \n",
      "dtypes: int64(1), object(2)\n",
      "memory usage: 3.1+ KB\n"
     ]
    }
   ],
   "source": [
    "import pandas as pd\n",
    "df = pd.read_csv('C:\\\\Users\\\\ADMIN\\\\Downloads\\\\GDPlist.csv', encoding='latin1')\n",
    "df.info()\n"
   ]
  },
  {
   "cell_type": "code",
   "execution_count": null,
   "id": "5739cc98",
   "metadata": {},
   "outputs": [],
   "source": [
    "print('Số cột dữ liệu là: ',df.shape[0])\n",
    "print('Số dòng dữ liệu là: ',df.shape[1])"
   ]
  },
  {
   "cell_type": "code",
   "execution_count": 7,
   "id": "37a858f0",
   "metadata": {},
   "outputs": [
    {
     "name": "stdout",
     "output_type": "stream",
     "text": [
      "Giá trị lớn nhất của GDP là:  Country                         Zambia\n",
      "Continent                South America\n",
      "GDP (millions of US$)         15094025\n",
      "dtype: object\n",
      "Giá trị nhỏ nhất của GDP là:  Country                   Afghanistan\n",
      "Continent                      Africa\n",
      "GDP (millions of US$)           10600\n",
      "dtype: object\n"
     ]
    }
   ],
   "source": [
    "print(\"Giá trị lớn nhất của GDP là: \",df.max())\n",
    "print(\"Giá trị nhỏ nhất của GDP là: \",df.min())"
   ]
  },
  {
   "cell_type": "code",
   "execution_count": 10,
   "id": "961e5de1",
   "metadata": {},
   "outputs": [
    {
     "name": "stdout",
     "output_type": "stream",
     "text": [
      "Giá trị xuất hiện nhiều nhất của biến định lượng là:            Country Continent  GDP (millions of US$)\n",
      "0     Afghanistan    Europe                  10600\n",
      "1         Albania       NaN                  11313\n",
      "2         Algeria       NaN                  12461\n",
      "3          Angola       NaN                  12655\n",
      "4       Argentina       NaN                  12827\n",
      "..            ...       ...                    ...\n",
      "120    Uzbekistan       NaN                2776324\n",
      "121     Venezuela       NaN                3577031\n",
      "122       Vietnam       NaN                5869471\n",
      "123         Yemen       NaN                7298147\n",
      "124        Zambia       NaN               15094025\n",
      "\n",
      "[125 rows x 3 columns]\n",
      "Giá trị trung vị của biến định lượng là:  GDP (millions of US$)    96089.0\n",
      "dtype: float64\n",
      "Giá trị trung bình của biến định lượng là:  GDP (millions of US$)    555427.784\n",
      "dtype: float64\n"
     ]
    },
    {
     "name": "stderr",
     "output_type": "stream",
     "text": [
      "C:\\Users\\ADMIN\\AppData\\Local\\Temp\\ipykernel_9884\\770015598.py:2: FutureWarning: Dropping of nuisance columns in DataFrame reductions (with 'numeric_only=None') is deprecated; in a future version this will raise TypeError.  Select only valid columns before calling the reduction.\n",
      "  print(\"Giá trị trung vị của biến định lượng là: \", df.median())\n",
      "C:\\Users\\ADMIN\\AppData\\Local\\Temp\\ipykernel_9884\\770015598.py:3: FutureWarning: Dropping of nuisance columns in DataFrame reductions (with 'numeric_only=None') is deprecated; in a future version this will raise TypeError.  Select only valid columns before calling the reduction.\n",
      "  print(\"Giá trị trung bình của biến định lượng là: \", df.mean())\n"
     ]
    }
   ],
   "source": [
    "print(\"Giá trị xuất hiện nhiều nhất của biến định lượng là: \", df.mode())\n",
    "print(\"Giá trị trung vị của biến định lượng là: \", df.median())\n",
    "print(\"Giá trị trung bình của biến định lượng là: \", df.mean())"
   ]
  },
  {
   "cell_type": "code",
   "execution_count": 17,
   "id": "bcbc8ce7",
   "metadata": {},
   "outputs": [
    {
     "name": "stdout",
     "output_type": "stream",
     "text": [
      "Châu lục xuất hiện nhiều nhất là:  Europe\n"
     ]
    }
   ],
   "source": [
    "most_common_continent = df['Continent'].mode().values[0]\n",
    "print('Châu lục xuất hiện nhiều nhất là: ',most_common_continent)\n"
   ]
  },
  {
   "cell_type": "code",
   "execution_count": null,
   "id": "0ad274e4",
   "metadata": {},
   "outputs": [],
   "source": []
  }
 ],
 "metadata": {
  "kernelspec": {
   "display_name": "Python 3 (ipykernel)",
   "language": "python",
   "name": "python3"
  },
  "language_info": {
   "codemirror_mode": {
    "name": "ipython",
    "version": 3
   },
   "file_extension": ".py",
   "mimetype": "text/x-python",
   "name": "python",
   "nbconvert_exporter": "python",
   "pygments_lexer": "ipython3",
   "version": "3.9.13"
  }
 },
 "nbformat": 4,
 "nbformat_minor": 5
}
