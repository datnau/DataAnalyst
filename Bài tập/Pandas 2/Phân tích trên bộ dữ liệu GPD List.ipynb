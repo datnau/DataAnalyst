{
 "cells": [
  {
   "cell_type": "code",
   "execution_count": 25,
   "id": "9d48ad6c",
   "metadata": {},
   "outputs": [
    {
     "data": {
      "text/html": [
       "<div>\n",
       "<style scoped>\n",
       "    .dataframe tbody tr th:only-of-type {\n",
       "        vertical-align: middle;\n",
       "    }\n",
       "\n",
       "    .dataframe tbody tr th {\n",
       "        vertical-align: top;\n",
       "    }\n",
       "\n",
       "    .dataframe thead th {\n",
       "        text-align: right;\n",
       "    }\n",
       "</style>\n",
       "<table border=\"1\" class=\"dataframe\">\n",
       "  <thead>\n",
       "    <tr style=\"text-align: right;\">\n",
       "      <th></th>\n",
       "      <th>Country</th>\n",
       "      <th>Continent</th>\n",
       "      <th>GDP (millions of US$)</th>\n",
       "    </tr>\n",
       "  </thead>\n",
       "  <tbody>\n",
       "    <tr>\n",
       "      <th>0</th>\n",
       "      <td>Afghanistan</td>\n",
       "      <td>Asia</td>\n",
       "      <td>18181</td>\n",
       "    </tr>\n",
       "    <tr>\n",
       "      <th>1</th>\n",
       "      <td>Albania</td>\n",
       "      <td>Europe</td>\n",
       "      <td>12847</td>\n",
       "    </tr>\n",
       "    <tr>\n",
       "      <th>2</th>\n",
       "      <td>Algeria</td>\n",
       "      <td>Africa</td>\n",
       "      <td>190709</td>\n",
       "    </tr>\n",
       "    <tr>\n",
       "      <th>3</th>\n",
       "      <td>Angola</td>\n",
       "      <td>Africa</td>\n",
       "      <td>100948</td>\n",
       "    </tr>\n",
       "    <tr>\n",
       "      <th>4</th>\n",
       "      <td>Argentina</td>\n",
       "      <td>South America</td>\n",
       "      <td>447644</td>\n",
       "    </tr>\n",
       "  </tbody>\n",
       "</table>\n",
       "</div>"
      ],
      "text/plain": [
       "        Country      Continent  GDP (millions of US$)\n",
       "0   Afghanistan           Asia                  18181\n",
       "1       Albania         Europe                  12847\n",
       "2       Algeria         Africa                 190709\n",
       "3        Angola         Africa                 100948\n",
       "4     Argentina  South America                 447644"
      ]
     },
     "execution_count": 25,
     "metadata": {},
     "output_type": "execute_result"
    }
   ],
   "source": [
    "import pandas as pd\n",
    "df = pd.read_csv('C:\\\\Users\\\\ADMIN\\\\Downloads\\\\GDPlist.csv', encoding='latin1')\n",
    "df.head()\n"
   ]
  },
  {
   "cell_type": "code",
   "execution_count": null,
   "id": "22585f75",
   "metadata": {},
   "outputs": [],
   "source": [
    "print('Số cột dữ liệu là: ',df.shape[0])\n",
    "print('Số dòng dữ liệu là: ',df.shape[1])"
   ]
  },
  {
   "cell_type": "code",
   "execution_count": 7,
   "id": "37a858f0",
   "metadata": {},
   "outputs": [
    {
     "name": "stdout",
     "output_type": "stream",
     "text": [
      "Giá trị lớn nhất của GDP là:  Country                         Zambia\n",
      "Continent                South America\n",
      "GDP (millions of US$)         15094025\n",
      "dtype: object\n",
      "Giá trị nhỏ nhất của GDP là:  Country                   Afghanistan\n",
      "Continent                      Africa\n",
      "GDP (millions of US$)           10600\n",
      "dtype: object\n"
     ]
    }
   ],
   "source": [
    "print(\"Giá trị lớn nhất của GDP là: \",df.max())\n",
    "print(\"Giá trị nhỏ nhất của GDP là: \",df.min())"
   ]
  },
  {
   "cell_type": "code",
   "execution_count": 10,
   "id": "b82e5690",
   "metadata": {},
   "outputs": [
    {
     "name": "stdout",
     "output_type": "stream",
     "text": [
      "Giá trị xuất hiện nhiều nhất của biến định lượng là:            Country Continent  GDP (millions of US$)\n",
      "0     Afghanistan    Europe                  10600\n",
      "1         Albania       NaN                  11313\n",
      "2         Algeria       NaN                  12461\n",
      "3          Angola       NaN                  12655\n",
      "4       Argentina       NaN                  12827\n",
      "..            ...       ...                    ...\n",
      "120    Uzbekistan       NaN                2776324\n",
      "121     Venezuela       NaN                3577031\n",
      "122       Vietnam       NaN                5869471\n",
      "123         Yemen       NaN                7298147\n",
      "124        Zambia       NaN               15094025\n",
      "\n",
      "[125 rows x 3 columns]\n",
      "Giá trị trung vị của biến định lượng là:  GDP (millions of US$)    96089.0\n",
      "dtype: float64\n",
      "Giá trị trung bình của biến định lượng là:  GDP (millions of US$)    555427.784\n",
      "dtype: float64\n"
     ]
    },
    {
     "name": "stderr",
     "output_type": "stream",
     "text": [
      "C:\\Users\\ADMIN\\AppData\\Local\\Temp\\ipykernel_9884\\770015598.py:2: FutureWarning: Dropping of nuisance columns in DataFrame reductions (with 'numeric_only=None') is deprecated; in a future version this will raise TypeError.  Select only valid columns before calling the reduction.\n",
      "  print(\"Giá trị trung vị của biến định lượng là: \", df.median())\n",
      "C:\\Users\\ADMIN\\AppData\\Local\\Temp\\ipykernel_9884\\770015598.py:3: FutureWarning: Dropping of nuisance columns in DataFrame reductions (with 'numeric_only=None') is deprecated; in a future version this will raise TypeError.  Select only valid columns before calling the reduction.\n",
      "  print(\"Giá trị trung bình của biến định lượng là: \", df.mean())\n"
     ]
    }
   ],
   "source": [
    "print(\"Giá trị xuất hiện nhiều nhất của biến định lượng là: \", df.mode())\n",
    "print(\"Giá trị trung vị của biến định lượng là: \", df.median())\n",
    "print(\"Giá trị trung bình của biến định lượng là: \", df.mean())"
   ]
  },
  {
   "cell_type": "code",
   "execution_count": 17,
   "id": "230e9866",
   "metadata": {},
   "outputs": [
    {
     "name": "stdout",
     "output_type": "stream",
     "text": [
      "Châu lục xuất hiện nhiều nhất là:  Europe\n"
     ]
    }
   ],
   "source": [
    "most_common_continent = df['Continent'].mode().values[0]\n",
    "print('Châu lục xuất hiện nhiều nhất là: ',most_common_continent)\n"
   ]
  },
  {
   "cell_type": "code",
   "execution_count": 24,
   "id": "b5ce67fb",
   "metadata": {},
   "outputs": [
    {
     "name": "stdout",
     "output_type": "stream",
     "text": [
      "       Continent     Total GDP  Mean GDP\n",
      "0         Africa  6.278659e+04   1820811\n",
      "1           Asia  6.784970e+05  24425891\n",
      "2         Europe  5.172805e+05  19139380\n",
      "3  North America  1.658041e+06  18238447\n",
      "4        Oceania  5.542423e+05   1662727\n",
      "5  South America  4.601352e+05   4141217\n"
     ]
    }
   ],
   "source": [
    "continent_stats = df.pivot_table(values='GDP (millions of US$)', index='Continent', aggfunc={'GDP (millions of US$)': ['sum', 'mean']}).reset_index()\n",
    "\n",
    "continent_stats.columns = ['Continent', 'Total GDP', 'Mean GDP']\n",
    "\n",
    "print(continent_stats)"
   ]
  },
  {
   "cell_type": "code",
   "execution_count": null,
   "id": "3a38ea31",
   "metadata": {},
   "outputs": [],
   "source": []
  }
 ],
 "metadata": {
  "kernelspec": {
   "display_name": "Python 3 (ipykernel)",
   "language": "python",
   "name": "python3"
  },
  "language_info": {
   "codemirror_mode": {
    "name": "ipython",
    "version": 3
   },
   "file_extension": ".py",
   "mimetype": "text/x-python",
   "name": "python",
   "nbconvert_exporter": "python",
   "pygments_lexer": "ipython3",
   "version": "3.9.13"
  }
 },
 "nbformat": 4,
 "nbformat_minor": 5
}
